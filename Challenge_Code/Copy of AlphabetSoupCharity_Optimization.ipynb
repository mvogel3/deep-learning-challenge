{
 "cells": [
  {
   "cell_type": "code",
   "execution_count": 1,
   "metadata": {
    "colab": {
     "base_uri": "https://localhost:8080/",
     "height": 495
    },
    "executionInfo": {
     "elapsed": 10386,
     "status": "ok",
     "timestamp": 1688749530869,
     "user": {
      "displayName": "Meg Vogel",
      "userId": "10050561886728662017"
     },
     "user_tz": 420
    },
    "id": "GSao2XpiZZBH",
    "outputId": "a5886326-f057-4550-f052-8891daa04763"
   },
   "outputs": [
    {
     "ename": "ModuleNotFoundError",
     "evalue": "No module named 'tensorflow'",
     "output_type": "error",
     "traceback": [
      "\u001b[0;31m---------------------------------------------------------------------------\u001b[0m",
      "\u001b[0;31mModuleNotFoundError\u001b[0m                       Traceback (most recent call last)",
      "Cell \u001b[0;32mIn[1], line 5\u001b[0m\n\u001b[1;32m      3\u001b[0m \u001b[38;5;28;01mfrom\u001b[39;00m \u001b[38;5;21;01msklearn\u001b[39;00m\u001b[38;5;21;01m.\u001b[39;00m\u001b[38;5;21;01mpreprocessing\u001b[39;00m \u001b[38;5;28;01mimport\u001b[39;00m StandardScaler\n\u001b[1;32m      4\u001b[0m \u001b[38;5;28;01mimport\u001b[39;00m \u001b[38;5;21;01mpandas\u001b[39;00m \u001b[38;5;28;01mas\u001b[39;00m \u001b[38;5;21;01mpd\u001b[39;00m\n\u001b[0;32m----> 5\u001b[0m \u001b[38;5;28;01mimport\u001b[39;00m \u001b[38;5;21;01mtensorflow\u001b[39;00m \u001b[38;5;28;01mas\u001b[39;00m \u001b[38;5;21;01mtf\u001b[39;00m\n\u001b[1;32m      7\u001b[0m \u001b[38;5;66;03m#  Importing and reading the charity_data.csv.\u001b[39;00m\n\u001b[1;32m      8\u001b[0m \u001b[38;5;28;01mimport\u001b[39;00m \u001b[38;5;21;01mpandas\u001b[39;00m \u001b[38;5;28;01mas\u001b[39;00m \u001b[38;5;21;01mpd\u001b[39;00m\n",
      "\u001b[0;31mModuleNotFoundError\u001b[0m: No module named 'tensorflow'"
     ]
    }
   ],
   "source": [
    "# Importing dependencies\n",
    "from sklearn.model_selection import train_test_split\n",
    "from sklearn.preprocessing import StandardScaler\n",
    "import pandas as pd\n",
    "import tensorflow as tf\n",
    "\n",
    "#  Importing and reading the charity_data.csv.\n",
    "import pandas as pd\n",
    "application_df = pd.read_csv(\"https://static.bc-edx.com/data/dl-1-2/m21/lms/starter/charity_data.csv\")\n",
    "application_df.head()"
   ]
  },
  {
   "cell_type": "code",
   "execution_count": null,
   "metadata": {
    "colab": {
     "base_uri": "https://localhost:8080/",
     "height": 287
    },
    "executionInfo": {
     "elapsed": 11,
     "status": "ok",
     "timestamp": 1688749530870,
     "user": {
      "displayName": "Meg Vogel",
      "userId": "10050561886728662017"
     },
     "user_tz": 420
    },
    "id": "ppAVJVQ3aRVg",
    "outputId": "44547c3e-3922-4983-f008-cecb4ea42389"
   },
   "outputs": [],
   "source": [
    "# Dropping the non-beneficial ID columns, 'EIN' and 'NAME'.\n",
    "application_clean = application_df.drop(columns=['EIN', 'NAME'])\n",
    "application_clean.head()"
   ]
  },
  {
   "cell_type": "code",
   "execution_count": null,
   "metadata": {
    "executionInfo": {
     "elapsed": 9,
     "status": "ok",
     "timestamp": 1688749530871,
     "user": {
      "displayName": "Meg Vogel",
      "userId": "10050561886728662017"
     },
     "user_tz": 420
    },
    "id": "yCxd63dDaczy"
   },
   "outputs": [],
   "source": [
    "# Determine the number of unique values in each column.\n",
    "# application_clean.nunique()\n",
    "\n",
    "# Look at APPLICATION_TYPE value counts for binning\n",
    "# application_clean['APPLICATION_TYPE'].value_counts()"
   ]
  },
  {
   "cell_type": "code",
   "execution_count": null,
   "metadata": {
    "colab": {
     "base_uri": "https://localhost:8080/"
    },
    "executionInfo": {
     "elapsed": 239,
     "status": "ok",
     "timestamp": 1688749531102,
     "user": {
      "displayName": "Meg Vogel",
      "userId": "10050561886728662017"
     },
     "user_tz": 420
    },
    "id": "nPiWio48auaA",
    "outputId": "9feb4003-20c3-438e-f0c2-4e319128f53d"
   },
   "outputs": [],
   "source": [
    "# Choosing a cutoff value and creating a list of application types to be replaced\n",
    "\n",
    "application_types_to_replace = ['T9', 'T13', 'T12', 'T2', 'T25', 'T14', 'T29', 'T15', 'T17']\n",
    "\n",
    "# Replace in dataframe\n",
    "for app in application_types_to_replace:\n",
    "    application_clean['APPLICATION_TYPE'] = application_clean['APPLICATION_TYPE'].replace(app,\"Other\")\n",
    "\n",
    "# Checking to make sure binning was successful\n",
    "application_clean['APPLICATION_TYPE'].value_counts()"
   ]
  },
  {
   "cell_type": "code",
   "execution_count": null,
   "metadata": {
    "executionInfo": {
     "elapsed": 7,
     "status": "ok",
     "timestamp": 1688749531103,
     "user": {
      "displayName": "Meg Vogel",
      "userId": "10050561886728662017"
     },
     "user_tz": 420
    },
    "id": "aOhnw277a1w4"
   },
   "outputs": [],
   "source": [
    "# Look at CLASSIFICATION value counts for binning\n",
    "# application_clean['CLASSIFICATION'].value_counts()\n",
    "\n",
    "# You may find it helpful to look at CLASSIFICATION value counts >1\n",
    "# vc = application_clean['CLASSIFICATION'].value_counts()\n",
    "# print (vc[vc>1])"
   ]
  },
  {
   "cell_type": "code",
   "execution_count": null,
   "metadata": {
    "colab": {
     "base_uri": "https://localhost:8080/"
    },
    "executionInfo": {
     "elapsed": 7,
     "status": "ok",
     "timestamp": 1688749531104,
     "user": {
      "displayName": "Meg Vogel",
      "userId": "10050561886728662017"
     },
     "user_tz": 420
    },
    "id": "5AgvMXXNa-QZ",
    "outputId": "7811f2aa-327a-4e18-e351-60ecab4c5ccc"
   },
   "outputs": [],
   "source": [
    "# Choosing a cutoff value and create a list of classifications to be replaced\n",
    "\n",
    "classifications_to_keep = ['C1000', 'C2000', 'C1200', 'C3000', 'C2100']\n",
    "\n",
    "application_clean.loc[~application_clean['CLASSIFICATION'].isin(classifications_to_keep), 'CLASSIFICATION'] = 'Other'\n",
    "\n",
    "\n",
    "# Checking to make sure binning was successful\n",
    "application_clean['CLASSIFICATION'].value_counts()"
   ]
  },
  {
   "cell_type": "code",
   "execution_count": null,
   "metadata": {
    "colab": {
     "base_uri": "https://localhost:8080/",
     "height": 316
    },
    "executionInfo": {
     "elapsed": 209,
     "status": "ok",
     "timestamp": 1688749531307,
     "user": {
      "displayName": "Meg Vogel",
      "userId": "10050561886728662017"
     },
     "user_tz": 420
    },
    "id": "vU0NnbZKbLOl",
    "outputId": "dfc75fe5-c487-4a4c-9ce2-f1fb37914dca"
   },
   "outputs": [],
   "source": [
    "# Converting categorical data to numeric with `pd.get_dummies`\n",
    "classification_dummies = pd.get_dummies(application_clean)\n",
    "classification_dummies.head()"
   ]
  },
  {
   "cell_type": "code",
   "execution_count": null,
   "metadata": {
    "colab": {
     "base_uri": "https://localhost:8080/"
    },
    "executionInfo": {
     "elapsed": 12,
     "status": "ok",
     "timestamp": 1688749531308,
     "user": {
      "displayName": "Meg Vogel",
      "userId": "10050561886728662017"
     },
     "user_tz": 420
    },
    "id": "at7FcLUErGbJ",
    "outputId": "4a847a23-3cf4-4a91-c8e7-f177b4598b76"
   },
   "outputs": [],
   "source": [
    "#  checking to see if the sample needs to be adjusted\n",
    "classification_dummies['IS_SUCCESSFUL'].value_counts()"
   ]
  },
  {
   "cell_type": "code",
   "execution_count": null,
   "metadata": {
    "colab": {
     "base_uri": "https://localhost:8080/"
    },
    "executionInfo": {
     "elapsed": 9,
     "status": "ok",
     "timestamp": 1688749531309,
     "user": {
      "displayName": "Meg Vogel",
      "userId": "10050561886728662017"
     },
     "user_tz": 420
    },
    "id": "s0e_QRVB5ioE",
    "outputId": "ae0b78fb-6cef-4049-97e2-092d6972edd7"
   },
   "outputs": [],
   "source": [
    "classification_dummies.columns"
   ]
  },
  {
   "cell_type": "code",
   "execution_count": null,
   "metadata": {
    "executionInfo": {
     "elapsed": 172,
     "status": "ok",
     "timestamp": 1688749531475,
     "user": {
      "displayName": "Meg Vogel",
      "userId": "10050561886728662017"
     },
     "user_tz": 420
    },
    "id": "sEY5XLpGYUty"
   },
   "outputs": [],
   "source": [
    "# Splitting the preprocessed data into features and target arrays\n",
    "\n",
    "# dropping the \"Special Consiterations\" columns\n",
    "X = classification_dummies.drop([\"IS_SUCCESSFUL\"], axis='columns').values\n",
    "y = classification_dummies[\"IS_SUCCESSFUL\"].values\n",
    "\n",
    "# Splitting the preprocessed data into a training and testing dataset\n",
    "X_train, X_test, y_train, y_test = train_test_split(X, y, random_state=1)"
   ]
  },
  {
   "cell_type": "code",
   "execution_count": null,
   "metadata": {
    "executionInfo": {
     "elapsed": 7,
     "status": "ok",
     "timestamp": 1688749531476,
     "user": {
      "displayName": "Meg Vogel",
      "userId": "10050561886728662017"
     },
     "user_tz": 420
    },
    "id": "93WEqo2ld-Rb"
   },
   "outputs": [],
   "source": [
    "# Creating a StandardScaler instances\n",
    "scaler = StandardScaler()\n",
    "\n",
    "# Fitting the StandardScaler\n",
    "X_scaler = scaler.fit(X_train)\n",
    "\n",
    "# Scaling the data\n",
    "X_train_scaled = X_scaler.transform(X_train)\n",
    "X_test_scaled = X_scaler.transform(X_test)"
   ]
  },
  {
   "cell_type": "markdown",
   "metadata": {
    "id": "V0aebJQrekff"
   },
   "source": [
    "## First Revision"
   ]
  },
  {
   "cell_type": "code",
   "execution_count": null,
   "metadata": {
    "colab": {
     "base_uri": "https://localhost:8080/"
    },
    "executionInfo": {
     "elapsed": 601,
     "status": "ok",
     "timestamp": 1688749532071,
     "user": {
      "displayName": "Meg Vogel",
      "userId": "10050561886728662017"
     },
     "user_tz": 420
    },
    "id": "RKHpehhXeJhE",
    "outputId": "685bbe98-2cf4-49ae-9a65-31b41259677d"
   },
   "outputs": [],
   "source": [
    "# Defining the model - deep neural net, i.e., the number of input features and hidden nodes for each layer.\n",
    "number_input_features = len(X_train[0])\n",
    "hidden_nodes_layer1 =  100\n",
    "hidden_nodes_layer2 = 30\n",
    "hidden_nodes_layer3 = 10\n",
    "\n",
    "nn = tf.keras.models.Sequential()\n",
    "\n",
    "# First hidden layer\n",
    "nn.add(tf.keras.layers.Dense(units=hidden_nodes_layer1, activation=\"relu\", input_dim=number_input_features))\n",
    "\n",
    "# Second hidden layer\n",
    "nn.add(tf.keras.layers.Dense(units=hidden_nodes_layer2, activation=\"relu\"))\n",
    "\n",
    "# adding a third hidden layer\n",
    "nn.add(tf.keras.layers.Dense(units=hidden_nodes_layer3, activation=\"relu\"))\n",
    "\n",
    "# Output layer\n",
    "nn.add(tf.keras.layers.Dense(units=1, activation=\"sigmoid\"))\n",
    "\n",
    "# Checking the structure of the model\n",
    "nn.summary()"
   ]
  },
  {
   "cell_type": "code",
   "execution_count": null,
   "metadata": {
    "executionInfo": {
     "elapsed": 7,
     "status": "ok",
     "timestamp": 1688749532072,
     "user": {
      "displayName": "Meg Vogel",
      "userId": "10050561886728662017"
     },
     "user_tz": 420
    },
    "id": "NevuiL-5eWNN"
   },
   "outputs": [],
   "source": [
    "# Compileing the model\n",
    "nn.compile(loss=\"binary_crossentropy\", optimizer=\"adam\", metrics=[\"accuracy\"])"
   ]
  },
  {
   "cell_type": "code",
   "execution_count": null,
   "metadata": {
    "colab": {
     "base_uri": "https://localhost:8080/"
    },
    "executionInfo": {
     "elapsed": 166369,
     "status": "ok",
     "timestamp": 1688749698435,
     "user": {
      "displayName": "Meg Vogel",
      "userId": "10050561886728662017"
     },
     "user_tz": 420
    },
    "id": "L0WWA2ObhIJe",
    "outputId": "e4cdb00a-2adb-4ad3-e77d-b45656a19ece"
   },
   "outputs": [],
   "source": [
    "# Training the model\n",
    "fit_model = nn.fit(X_train_scaled, y_train, epochs=100)"
   ]
  },
  {
   "cell_type": "code",
   "execution_count": null,
   "metadata": {
    "colab": {
     "base_uri": "https://localhost:8080/"
    },
    "executionInfo": {
     "elapsed": 606,
     "status": "ok",
     "timestamp": 1688749699020,
     "user": {
      "displayName": "Meg Vogel",
      "userId": "10050561886728662017"
     },
     "user_tz": 420
    },
    "id": "p_8YlaIZhNz0",
    "outputId": "f09f28ba-d19d-43b7-a553-8cb18a2cc79d"
   },
   "outputs": [],
   "source": [
    "# Evaluating the model using the test data\n",
    "model_loss, model_accuracy = nn.evaluate(X_test_scaled,y_test,verbose=2)\n",
    "print(f\"Loss: {model_loss}, Accuracy: {model_accuracy}\")"
   ]
  },
  {
   "cell_type": "markdown",
   "metadata": {
    "id": "vxLRWXy9szIg"
   },
   "source": [
    "## Second Revision"
   ]
  },
  {
   "cell_type": "code",
   "execution_count": null,
   "metadata": {
    "colab": {
     "base_uri": "https://localhost:8080/"
    },
    "executionInfo": {
     "elapsed": 11,
     "status": "ok",
     "timestamp": 1688749699021,
     "user": {
      "displayName": "Meg Vogel",
      "userId": "10050561886728662017"
     },
     "user_tz": 420
    },
    "id": "c5FHvI5dkxVB",
    "outputId": "fc418ace-5a89-4321-c331-7b22ae2dbbf4"
   },
   "outputs": [],
   "source": [
    "# Defining the model - deep neural net, i.e., the number of input features and hidden nodes for each layer.\n",
    "number_input_features = len(X_train[0])\n",
    "hidden_nodes_layer1 =  200\n",
    "hidden_nodes_layer2 = 100\n",
    "hidden_nodes_layer3 = 50\n",
    "\n",
    "nn2 = tf.keras.models.Sequential()\n",
    "\n",
    "# First hidden layer\n",
    "nn2.add(tf.keras.layers.Dense(units=hidden_nodes_layer1, activation=\"relu\", input_dim=number_input_features))\n",
    "\n",
    "# Second hidden layer\n",
    "nn2.add(tf.keras.layers.Dense(units=hidden_nodes_layer2, activation=\"relu\"))\n",
    "\n",
    "# adding a third hidden layer\n",
    "nn2.add(tf.keras.layers.Dense(units=hidden_nodes_layer3, activation=\"relu\"))\n",
    "\n",
    "# Output layer\n",
    "nn2.add(tf.keras.layers.Dense(units=1, activation=\"sigmoid\"))\n",
    "\n",
    "# Checking the structure of the model\n",
    "nn2.summary()"
   ]
  },
  {
   "cell_type": "code",
   "execution_count": null,
   "metadata": {
    "executionInfo": {
     "elapsed": 4,
     "status": "ok",
     "timestamp": 1688749699021,
     "user": {
      "displayName": "Meg Vogel",
      "userId": "10050561886728662017"
     },
     "user_tz": 420
    },
    "id": "-lsqpVQLtDhu"
   },
   "outputs": [],
   "source": [
    "# Compileing the model\n",
    "nn2.compile(loss=\"binary_crossentropy\", optimizer=\"adam\", metrics=[\"accuracy\"])"
   ]
  },
  {
   "cell_type": "code",
   "execution_count": null,
   "metadata": {
    "colab": {
     "base_uri": "https://localhost:8080/"
    },
    "executionInfo": {
     "elapsed": 185666,
     "status": "ok",
     "timestamp": 1688749884683,
     "user": {
      "displayName": "Meg Vogel",
      "userId": "10050561886728662017"
     },
     "user_tz": 420
    },
    "id": "5TRsJiAstIwn",
    "outputId": "47fe9752-d06b-4592-b151-7eb1685ff604"
   },
   "outputs": [],
   "source": [
    "# Training the model\n",
    "fit_model = nn2.fit(X_train_scaled, y_train, epochs=100)"
   ]
  },
  {
   "cell_type": "code",
   "execution_count": null,
   "metadata": {
    "colab": {
     "base_uri": "https://localhost:8080/"
    },
    "executionInfo": {
     "elapsed": 423,
     "status": "ok",
     "timestamp": 1688749885236,
     "user": {
      "displayName": "Meg Vogel",
      "userId": "10050561886728662017"
     },
     "user_tz": 420
    },
    "id": "pLAU-TLltNa-",
    "outputId": "12e7947c-0089-46aa-f5f3-7260666194cd"
   },
   "outputs": [],
   "source": [
    "# Evaluate the model using the test data\n",
    "model_loss, model_accuracy = nn2.evaluate(X_test_scaled,y_test,verbose=2)\n",
    "print(f\"Loss: {model_loss}, Accuracy: {model_accuracy}\")"
   ]
  },
  {
   "cell_type": "markdown",
   "metadata": {
    "id": "03S61ET-wP37"
   },
   "source": [
    "# Third Revision"
   ]
  },
  {
   "cell_type": "code",
   "execution_count": null,
   "metadata": {
    "colab": {
     "base_uri": "https://localhost:8080/"
    },
    "executionInfo": {
     "elapsed": 210,
     "status": "ok",
     "timestamp": 1688749885441,
     "user": {
      "displayName": "Meg Vogel",
      "userId": "10050561886728662017"
     },
     "user_tz": 420
    },
    "id": "M_wnjDZKuChV",
    "outputId": "afa815d9-19fb-4ef9-f061-01bcd5f16d4e"
   },
   "outputs": [],
   "source": [
    "# Defining the model - deep neural net, i.e., the number of input features and hidden nodes for each layer.\n",
    "number_input_features = len(X_train[0])\n",
    "hidden_nodes_layer1 =  200\n",
    "hidden_nodes_layer2 = 100\n",
    "# hidden_nodes_layer3 = 50\n",
    "\n",
    "nn3 = tf.keras.models.Sequential()\n",
    "\n",
    "# First hidden layer\n",
    "nn3.add(tf.keras.layers.Dense(units=hidden_nodes_layer1, activation=\"relu\", input_dim=number_input_features))\n",
    "\n",
    "# Second hidden layer\n",
    "nn3.add(tf.keras.layers.Dense(units=hidden_nodes_layer2, activation=\"sigmoid\"))\n",
    "\n",
    "# adding a third hidden layer\n",
    "# nn2.add(tf.keras.layers.Dense(units=hidden_nodes_layer3, activation=\"relu\"))\n",
    "\n",
    "# Output layer\n",
    "nn3.add(tf.keras.layers.Dense(units=1, activation=\"sigmoid\"))\n",
    "\n",
    "# Checking the structure of the model\n",
    "nn3.summary()"
   ]
  },
  {
   "cell_type": "code",
   "execution_count": null,
   "metadata": {
    "executionInfo": {
     "elapsed": 5,
     "status": "ok",
     "timestamp": 1688749885441,
     "user": {
      "displayName": "Meg Vogel",
      "userId": "10050561886728662017"
     },
     "user_tz": 420
    },
    "id": "cKCjUAYSRpEo"
   },
   "outputs": [],
   "source": [
    "# Compileing the model\n",
    "nn3.compile(loss=\"binary_crossentropy\", optimizer=\"adam\", metrics=[\"accuracy\"])"
   ]
  },
  {
   "cell_type": "code",
   "execution_count": null,
   "metadata": {
    "colab": {
     "base_uri": "https://localhost:8080/"
    },
    "executionInfo": {
     "elapsed": 351834,
     "status": "ok",
     "timestamp": 1688750237270,
     "user": {
      "displayName": "Meg Vogel",
      "userId": "10050561886728662017"
     },
     "user_tz": 420
    },
    "id": "Z2oG4Cm6R0dQ",
    "outputId": "1ca66fe4-7e69-43b7-f60a-af6ff22efb8b"
   },
   "outputs": [],
   "source": [
    "# Training the model\n",
    "fit_model = nn3.fit(X_train_scaled, y_train, epochs=200)"
   ]
  },
  {
   "cell_type": "code",
   "execution_count": null,
   "metadata": {
    "colab": {
     "base_uri": "https://localhost:8080/"
    },
    "executionInfo": {
     "elapsed": 1488,
     "status": "ok",
     "timestamp": 1688750262071,
     "user": {
      "displayName": "Meg Vogel",
      "userId": "10050561886728662017"
     },
     "user_tz": 420
    },
    "id": "kEqq8rvdR5ug",
    "outputId": "e5b41d9d-d39a-431a-dd57-3d71115e32ce"
   },
   "outputs": [],
   "source": [
    "# Evaluate the model using the test data\n",
    "model_loss, model_accuracy = nn3.evaluate(X_test_scaled,y_test,verbose=2)\n",
    "print(f\"Loss: {model_loss}, Accuracy: {model_accuracy}\")"
   ]
  },
  {
   "cell_type": "code",
   "execution_count": null,
   "metadata": {
    "executionInfo": {
     "elapsed": 171,
     "status": "ok",
     "timestamp": 1688750615001,
     "user": {
      "displayName": "Meg Vogel",
      "userId": "10050561886728662017"
     },
     "user_tz": 420
    },
    "id": "dOBX6oI3W_fH"
   },
   "outputs": [],
   "source": [
    "# nn3.save(\"AlphabetSoupCharity_Optimization.h5\")"
   ]
  },
  {
   "cell_type": "code",
   "execution_count": null,
   "metadata": {
    "id": "X0ds2chUYSCM"
   },
   "outputs": [],
   "source": []
  }
 ],
 "metadata": {
  "colab": {
   "authorship_tag": "ABX9TyOF0oK2ARgeIjGJEZ6aYcO+",
   "provenance": []
  },
  "kernelspec": {
   "display_name": "PythonData",
   "language": "python",
   "name": "pythondata"
  },
  "language_info": {
   "codemirror_mode": {
    "name": "ipython",
    "version": 3
   },
   "file_extension": ".py",
   "mimetype": "text/x-python",
   "name": "python",
   "nbconvert_exporter": "python",
   "pygments_lexer": "ipython3",
   "version": "3.10.11"
  }
 },
 "nbformat": 4,
 "nbformat_minor": 1
}
